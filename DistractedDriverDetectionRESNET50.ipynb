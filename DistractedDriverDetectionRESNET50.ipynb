{
  "nbformat": 4,
  "nbformat_minor": 0,
  "metadata": {
    "colab": {
      "provenance": [],
      "gpuType": "T4"
    },
    "kernelspec": {
      "name": "python3",
      "display_name": "Python 3"
    },
    "language_info": {
      "name": "python"
    },
    "accelerator": "GPU"
  },
  "cells": [
    {
      "cell_type": "code",
      "execution_count": 4,
      "metadata": {
        "colab": {
          "base_uri": "https://localhost:8080/"
        },
        "id": "kA3MR1imTrDo",
        "outputId": "4c730bff-b39d-43c0-dd97-c586eb65d46e"
      },
      "outputs": [
        {
          "output_type": "stream",
          "name": "stdout",
          "text": [
            "Cloning into 'Distracted-Driver-Detection'...\n",
            "remote: Enumerating objects: 22455, done.\u001b[K\n",
            "remote: Counting objects: 100% (18/18), done.\u001b[K\n",
            "remote: Compressing objects: 100% (16/16), done.\u001b[K\n",
            "remote: Total 22455 (delta 3), reused 16 (delta 1), pack-reused 22437\u001b[K\n",
            "Receiving objects: 100% (22455/22455), 906.37 MiB | 38.86 MiB/s, done.\n",
            "Resolving deltas: 100% (3/3), done.\n",
            "Updating files: 100% (22435/22435), done.\n"
          ]
        }
      ],
      "source": [
        "!git clone https://github.com/adi9820/Distracted-Driver-Detection"
      ]
    },
    {
      "cell_type": "code",
      "source": [
        "import numpy as np\n",
        "import pandas as pd"
      ],
      "metadata": {
        "id": "UQzvqxcmTxMQ"
      },
      "execution_count": 5,
      "outputs": []
    },
    {
      "cell_type": "code",
      "source": [
        "# setting up the data paths\n",
        "\n",
        "train_dir = '/content/Distracted-Driver-Detection/train'  # train directory\n",
        "example_dir = '/content/Distracted-Driver-Detection/example' # example directory\n",
        "\n",
        "df = pd.read_csv('/content/Distracted-Driver-Detection/driver_imgs_list.csv')   # driver images list csv"
      ],
      "metadata": {
        "id": "4qLMfs39TxsV"
      },
      "execution_count": 6,
      "outputs": []
    },
    {
      "cell_type": "code",
      "source": [
        "# unique classes\n",
        "classes = df['classname'].unique()\n",
        "classes"
      ],
      "metadata": {
        "colab": {
          "base_uri": "https://localhost:8080/"
        },
        "id": "TNbpo_F9T2ct",
        "outputId": "60439fdb-52e7-4cad-e7d0-544ed2cfc9af"
      },
      "execution_count": 7,
      "outputs": [
        {
          "output_type": "execute_result",
          "data": {
            "text/plain": [
              "array(['c0', 'c1', 'c2', 'c3', 'c4', 'c5', 'c6', 'c7', 'c8', 'c9'],\n",
              "      dtype=object)"
            ]
          },
          "metadata": {},
          "execution_count": 7
        }
      ]
    },
    {
      "cell_type": "code",
      "source": [
        "!pip install split-folders"
      ],
      "metadata": {
        "colab": {
          "base_uri": "https://localhost:8080/"
        },
        "id": "l_nc1iXBT-cl",
        "outputId": "5d4fd0a9-deea-46c5-d164-af303fa33ea8"
      },
      "execution_count": 8,
      "outputs": [
        {
          "output_type": "stream",
          "name": "stdout",
          "text": [
            "Collecting split-folders\n",
            "  Downloading split_folders-0.5.1-py3-none-any.whl (8.4 kB)\n",
            "Installing collected packages: split-folders\n",
            "Successfully installed split-folders-0.5.1\n"
          ]
        }
      ]
    },
    {
      "cell_type": "code",
      "source": [
        "# split data into train and validation\n",
        "import splitfolders\n",
        "\n",
        "splitfolders.ratio(train_dir, output=\"dataa\", seed=1337, ratio=(.8, .2), group_prefix=None, move=False)"
      ],
      "metadata": {
        "colab": {
          "base_uri": "https://localhost:8080/"
        },
        "id": "vPCFZckQUAEz",
        "outputId": "a014f187-1da3-4f19-b4da-c83954750c79"
      },
      "execution_count": 10,
      "outputs": [
        {
          "output_type": "stream",
          "name": "stderr",
          "text": [
            "Copying files: 22424 files [00:09, 2310.48 files/s]\n"
          ]
        }
      ]
    },
    {
      "cell_type": "code",
      "source": [
        "import torch\n",
        "import torch.nn as nn\n",
        "import torchvision\n",
        "from torchvision import models, transforms, datasets\n",
        "from keras.applications.resnet import ResNet50"
      ],
      "metadata": {
        "id": "q87OcNsaULDt"
      },
      "execution_count": 11,
      "outputs": []
    },
    {
      "cell_type": "code",
      "source": [
        "device = torch.device(\"cuda:0\")"
      ],
      "metadata": {
        "id": "wTrFqtPhUNsF"
      },
      "execution_count": 12,
      "outputs": []
    },
    {
      "cell_type": "code",
      "source": [
        "transform = transforms.Compose([transforms.Resize((400, 400)),\n",
        "                                transforms.RandomRotation(10),\n",
        "                                transforms.ToTensor(),\n",
        "                                transforms.Normalize((0.5, 0.5, 0.5), (0.5, 0.5, 0.5))\n",
        "                                ])"
      ],
      "metadata": {
        "id": "mpczKv8GUQiZ"
      },
      "execution_count": 13,
      "outputs": []
    },
    {
      "cell_type": "code",
      "source": [
        "training_data = datasets.ImageFolder(root = '/content/dataa/train', transform = transform)\n",
        "\n",
        "validation_data = datasets.ImageFolder(root = '/content/dataa/val', transform = transform)"
      ],
      "metadata": {
        "id": "Dr3rugxkUSyC"
      },
      "execution_count": 14,
      "outputs": []
    },
    {
      "cell_type": "code",
      "source": [
        "train_loader = torch.utils.data.DataLoader(dataset=training_data, batch_size=32, shuffle=True, drop_last=False, num_workers=2)\n",
        "\n",
        "test_loader = torch.utils.data.DataLoader(dataset=validation_data, batch_size=32, shuffle=False, drop_last=False, num_workers=2)"
      ],
      "metadata": {
        "id": "cUzXr312UVKG"
      },
      "execution_count": 15,
      "outputs": []
    },
    {
      "cell_type": "code",
      "source": [
        "from tqdm import tqdm\n",
        "import time"
      ],
      "metadata": {
        "id": "y57FdDj6UXJl"
      },
      "execution_count": 16,
      "outputs": []
    },
    {
      "cell_type": "code",
      "source": [
        "def train_model(model, criterion, optimizer, scheduler, n_epochs = 5):\n",
        "\n",
        "    losses = []\n",
        "    accuracies = []\n",
        "    val_accuracies = []\n",
        "    # set the model to train mode initially\n",
        "    model.train()\n",
        "    for epoch in tqdm(range(n_epochs)):\n",
        "        since = time.time()\n",
        "        running_loss = 0.0\n",
        "        running_correct = 0.0\n",
        "        for data in train_loader:\n",
        "\n",
        "            # get the inputs and assign them to cuda\n",
        "            inputs, labels = data\n",
        "            inputs = inputs.to(device)\n",
        "            labels = labels.to(device)\n",
        "            optimizer.zero_grad()\n",
        "\n",
        "            # forward + backward + optimize\n",
        "            outputs = model(inputs)\n",
        "            _, predicted = torch.max(outputs.data, 1)\n",
        "            loss = criterion(outputs, labels)\n",
        "            loss.backward()\n",
        "            optimizer.step()\n",
        "\n",
        "            # calculate the loss/acc later\n",
        "            running_loss += loss.item()\n",
        "            running_correct += (labels==predicted).sum().item()\n",
        "\n",
        "        epoch_duration = time.time()-since\n",
        "        epoch_loss = running_loss/len(train_loader)\n",
        "        epoch_acc = 100/32*running_correct/len(train_loader)\n",
        "\n",
        "        print(\"Epoch %s, duration: %d s, loss: %.3f, acc: %.3f\" % (epoch+1, epoch_duration, epoch_loss, epoch_acc))\n",
        "\n",
        "        losses.append(epoch_loss)\n",
        "        accuracies.append(epoch_acc)\n",
        "\n",
        "        # switch the model to eval mode to evaluate on test data\n",
        "        model.eval()\n",
        "        val_acc = eval_model(model)\n",
        "        val_accuracies.append(val_acc)\n",
        "\n",
        "        # re-set the model to train mode after validating\n",
        "        model.train()\n",
        "        scheduler.step(val_acc)\n",
        "        since = time.time()\n",
        "    print('Finished Training')\n",
        "    return model, losses, accuracies, val_accuracies"
      ],
      "metadata": {
        "id": "9l4KE5fTUaA5"
      },
      "execution_count": 17,
      "outputs": []
    },
    {
      "cell_type": "code",
      "source": [
        "def eval_model(model):\n",
        "    correct = 0.0\n",
        "    total = 0.0\n",
        "    with torch.no_grad():\n",
        "        for i, data in enumerate(test_loader, 0):\n",
        "            images, labels = data\n",
        "            images = images.to(device)\n",
        "            labels = labels.to(device)\n",
        "\n",
        "            outputs = model_ft(images)\n",
        "            _, predicted = torch.max(outputs.data, 1)\n",
        "\n",
        "            total += labels.size(0)\n",
        "            correct += (predicted == labels).sum().item()\n",
        "\n",
        "    test_acc = 100.0 * correct / total\n",
        "    print('Accuracy of the network on the validation images: %.2f %%' % (\n",
        "        test_acc))\n",
        "    return test_acc"
      ],
      "metadata": {
        "id": "m3On8TtmUcD4"
      },
      "execution_count": 18,
      "outputs": []
    },
    {
      "cell_type": "code",
      "source": [
        "model_ft = models.resnet50(weights='ResNet50_Weights.DEFAULT')\n",
        "num_ftrs = model_ft.fc.in_features\n",
        "\n",
        "model_ft.fc = nn.Linear(num_ftrs, 10) #No. of classes = 10\n",
        "model_ft = model_ft.to(device)\n",
        "\n",
        "criterion = nn.CrossEntropyLoss()\n",
        "optimizer = torch.optim.SGD(model_ft.parameters(), lr=0.01, momentum=0.9)\n",
        "lrscheduler = torch.optim.lr_scheduler.ReduceLROnPlateau(optimizer, mode='max', patience=3, threshold = 0.9)"
      ],
      "metadata": {
        "colab": {
          "base_uri": "https://localhost:8080/"
        },
        "id": "mf3yEdmUUd6H",
        "outputId": "7bed1e81-a5e9-4968-b2cb-95e2e4ebb0bc"
      },
      "execution_count": 19,
      "outputs": [
        {
          "output_type": "stream",
          "name": "stderr",
          "text": [
            "100%|██████████| 97.8M/97.8M [00:00<00:00, 148MB/s]\n"
          ]
        }
      ]
    },
    {
      "cell_type": "code",
      "source": [
        "model_ft, training_losses, training_accs, val_accs = train_model(model_ft, criterion, optimizer, lrscheduler, n_epochs=5)"
      ],
      "metadata": {
        "colab": {
          "base_uri": "https://localhost:8080/"
        },
        "id": "AdMFc1IWUhOj",
        "outputId": "3c37a3e0-633b-443c-f921-bb0de4ecc7b9"
      },
      "execution_count": 20,
      "outputs": [
        {
          "output_type": "stream",
          "name": "stderr",
          "text": [
            "\r  0%|          | 0/5 [00:00<?, ?it/s]"
          ]
        },
        {
          "output_type": "stream",
          "name": "stdout",
          "text": [
            "Epoch 1, duration: 600 s, loss: 0.360, acc: 88.831\n"
          ]
        },
        {
          "output_type": "stream",
          "name": "stderr",
          "text": [
            "\r 20%|██        | 1/5 [10:54<43:38, 654.59s/it]"
          ]
        },
        {
          "output_type": "stream",
          "name": "stdout",
          "text": [
            "Accuracy of the network on the validation images: 98.93 %\n",
            "Epoch 2, duration: 609 s, loss: 0.028, acc: 99.148\n"
          ]
        },
        {
          "output_type": "stream",
          "name": "stderr",
          "text": [
            "\r 40%|████      | 2/5 [21:56<32:57, 659.14s/it]"
          ]
        },
        {
          "output_type": "stream",
          "name": "stdout",
          "text": [
            "Accuracy of the network on the validation images: 99.31 %\n",
            "Epoch 3, duration: 609 s, loss: 0.016, acc: 99.437\n"
          ]
        },
        {
          "output_type": "stream",
          "name": "stderr",
          "text": [
            "\r 60%|██████    | 3/5 [32:59<22:01, 660.66s/it]"
          ]
        },
        {
          "output_type": "stream",
          "name": "stdout",
          "text": [
            "Accuracy of the network on the validation images: 99.67 %\n",
            "Epoch 4, duration: 610 s, loss: 0.006, acc: 99.738\n"
          ]
        },
        {
          "output_type": "stream",
          "name": "stderr",
          "text": [
            "\r 80%|████████  | 4/5 [44:03<11:02, 662.14s/it]"
          ]
        },
        {
          "output_type": "stream",
          "name": "stdout",
          "text": [
            "Accuracy of the network on the validation images: 99.58 %\n",
            "Epoch 5, duration: 609 s, loss: 0.002, acc: 99.850\n"
          ]
        },
        {
          "output_type": "stream",
          "name": "stderr",
          "text": [
            "100%|██████████| 5/5 [55:08<00:00, 661.61s/it]"
          ]
        },
        {
          "output_type": "stream",
          "name": "stdout",
          "text": [
            "Accuracy of the network on the validation images: 99.73 %\n",
            "Finished Training\n"
          ]
        },
        {
          "output_type": "stream",
          "name": "stderr",
          "text": [
            "\n"
          ]
        }
      ]
    },
    {
      "cell_type": "code",
      "source": [
        "torch.save(model_ft,\"modelresnet50.hd5\")\n",
        "torch.save(model_ft.state_dict(), \"modelresnet50-driver\")"
      ],
      "metadata": {
        "id": "oREZaH5rkjbs"
      },
      "execution_count": 21,
      "outputs": []
    },
    {
      "cell_type": "code",
      "source": [
        "import matplotlib.pyplot as plt\n",
        "\n",
        "tr_accuracy_resnet = training_accs\n",
        "val_accuracy_resnet = val_accs\n",
        "\n",
        "epchs = list(range(1,len(tr_accuracy_resnet)+1))\n",
        "plt.plot(epchs,tr_accuracy_resnet,label='Train')\n",
        "plt.plot(epchs,val_accuracy_resnet,label='Validation')\n",
        "plt.title(\"Training and Validation accuracy\")\n",
        "plt.legend()\n",
        "plt.show()"
      ],
      "metadata": {
        "id": "_gf-EmYGUjP2",
        "colab": {
          "base_uri": "https://localhost:8080/",
          "height": 452
        },
        "outputId": "7f8e6cd0-51d4-4d81-e43f-3e3d88c3b5ed"
      },
      "execution_count": 22,
      "outputs": [
        {
          "output_type": "display_data",
          "data": {
            "text/plain": [
              "<Figure size 640x480 with 1 Axes>"
            ],
            "image/png": "[encoded data removed]"
          },
          "metadata": {}
        }
      ]
    }
  ]
}